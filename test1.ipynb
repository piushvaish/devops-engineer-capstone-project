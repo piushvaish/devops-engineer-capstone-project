{
 "cells": [
  {
   "cell_type": "code",
   "execution_count": 1,
   "metadata": {},
   "outputs": [],
   "source": [
    "# !pip install boto3\n",
    "# ! pip install s3fs"
   ]
  },
  {
   "cell_type": "code",
   "execution_count": 6,
   "metadata": {},
   "outputs": [],
   "source": [
    "import numpy as np\n",
    "import pandas as pd\n",
    "import os\n",
    "import boto3\n",
    "import s3fs\n",
    "import errno\n",
    "import io\n",
    "import warnings\n",
    "# import configparser\n",
    "\n",
    "# config = configparser.ConfigParser()\n",
    "# config.read_file(open('config.ini'))\n",
    "# key = config.get('aws', 'key')\n",
    "# secret = config.get('aws', 'secret')\n",
    "# s3 = s3fs.S3FileSystem(anon = False, key=key, secret=secret)"
   ]
  },
  {
   "cell_type": "code",
   "execution_count": 7,
   "metadata": {},
   "outputs": [],
   "source": [
    "dates = pd.date_range('20130101', periods=6)\n",
    "\n",
    "df = pd.DataFrame(np.random.randn(6, 4), index=dates, columns=list('ABCD'))\n",
    "\n",
    "df"
   ]
  },
  {
   "cell_type": "code",
   "execution_count": 8,
   "metadata": {},
   "outputs": [],
   "source": [
    "#bucket\n",
    "# bucket = 'pv-capstone-project'\n",
    "\n",
    "# # CSV_files\n",
    "# outname = \"sample_test.csv\"\n",
    "# outdir = \"s3://\" + bucket "
   ]
  },
  {
   "cell_type": "code",
   "execution_count": 9,
   "metadata": {},
   "outputs": [],
   "source": [
    "# def _write_dataframe_to_csv_on_s32(dataframe, filename):\n",
    "#     \"\"\" Write a dataframe to a CSV on S3 \"\"\"\n",
    "#     print(\"Writing {} records to {}\".format(len(dataframe), filename))\n",
    "#     #########\n",
    "#     bytes_to_write = dataframe.to_csv(None, index = False).encode()\n",
    "#     with s3.open(filename, 'wb') as f:\n",
    "#         f.write(bytes_to_write)\n",
    "        \n",
    "# def _write_image_on_s3(bucket ,fullname_image):\n",
    "#     ### save image\n",
    "#     canvas = FigureCanvasAgg(fig) # renders figure onto canvas\n",
    "#     imdata = io.BytesIO() # prepares in-memory binary stream buffer (think of this as a txt file but purely in memory)\n",
    "#     canvas.print_png(imdata) # writes canvas object as a png file to the buffer. You can also use print_jpg, alternatively\n",
    "\n",
    "#     image_s3 = boto3.resource('s3') # or whatever region your s3 is in\n",
    "\n",
    "#     image_s3.Object(bucket ,fullname_image).put(Body=imdata.getvalue(),\n",
    "#                                               ContentType='image/png')"
   ]
  },
  {
   "cell_type": "code",
   "execution_count": 10,
   "metadata": {},
   "outputs": [
    {
     "name": "stdout",
     "output_type": "stream",
     "text": [
      "Writing 6 records to s3://pv-capstone-project/sample_test.csv\n"
     ]
    }
   ],
   "source": [
    "# fullname = os.path.join(outdir, outname)\n",
    "# _write_dataframe_to_csv_on_s32(df, fullname)"
   ]
  },
  {
   "cell_type": "code",
   "execution_count": null,
   "metadata": {},
   "outputs": [],
   "source": []
  }
 ],
 "metadata": {
  "kernelspec": {
   "display_name": "Python 3",
   "language": "python",
   "name": "python3"
  },
  "language_info": {
   "codemirror_mode": {
    "name": "ipython",
    "version": 3
   },
   "file_extension": ".py",
   "mimetype": "text/x-python",
   "name": "python",
   "nbconvert_exporter": "python",
   "pygments_lexer": "ipython3",
   "version": "3.7.6"
  }
 },
 "nbformat": 4,
 "nbformat_minor": 4
}